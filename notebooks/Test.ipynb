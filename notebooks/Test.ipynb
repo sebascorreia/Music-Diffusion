{
  "nbformat": 4,
  "nbformat_minor": 0,
  "metadata": {
    "colab": {
      "provenance": [],
      "machine_shape": "hm",
      "gpuType": "A100"
    },
    "kernelspec": {
      "name": "python3",
      "display_name": "Python 3"
    },
    "language_info": {
      "name": "python"
    },
    "accelerator": "GPU"
  },
  "cells": [
    {
      "cell_type": "code",
      "execution_count": null,
      "metadata": {
        "id": "vcDyd9-oMO8a"
      },
      "outputs": [],
      "source": [
        "try:\n",
        "    # are we running on Google Colab?\n",
        "    import google.colab\n",
        "    !git clone -q https://github.com/sebascorreia/music-diffusion.git\n",
        "    %cd music-diffusion\n",
        "    %pip install -q -r requirements.txt\n",
        "    %pip install descript-audio-codec\n",
        "except:\n",
        "    pass"
      ]
    },
    {
      "cell_type": "code",
      "source": [
        "file_path = '/usr/local/lib/python3.10/dist-packages/fadtk/fad.py'\n",
        "\n",
        "# Read the file\n",
        "with open(file_path, 'r') as file:\n",
        "    file_data = file.read()\n",
        "\n",
        "# Replace 'from scipy import sqrt as scisqrt' with 'from numpy import sqrt as scisqrt'\n",
        "file_data = file_data.replace('from scipy import sqrt as scisqrt', 'from numpy import sqrt as scisqrt')\n",
        "\n",
        "# Write the file out again\n",
        "with open(file_path, 'w') as file:\n",
        "    file.write(file_data)\n",
        "\n",
        "print(\"File modified successfully.\")"
      ],
      "metadata": {
        "id": "HP_xg-04MUS1"
      },
      "execution_count": null,
      "outputs": []
    },
    {
      "cell_type": "markdown",
      "source": [
        "Generate 5 Maestro spectrograms unconditionally"
      ],
      "metadata": {
        "id": "GIvCEtjsNOvA"
      }
    },
    {
      "cell_type": "code",
      "source": [
        "import sys\n",
        "\n",
        "import glob\n",
        "from pathlib import Path\n",
        "!{sys.executable} /content/music-diffusion/scripts/Image_audio_Generator.py \\\n",
        "  --from_pretrained sebascorreia/DDPM-Maestro-full\\\n",
        "  --time_steps 50 \\\n",
        "  --num_gen_img 5 \\\n",
        "  --output_dir \"/content/\" \\\n",
        "  --scheduler ddim \\\n",
        "  --seed 123\n",
        "\n",
        "from IPython.display import Image, Audio, display\n",
        "import os\n",
        "output_dir = Path(\"/content/eval\")\n",
        "rg = len(list(output_dir.glob('*')))-1\n",
        "for i, sample in enumerate(range(rg//2)):\n",
        "    img_path = os.path.join(output_dir, f\"samples{i}.jpg\")\n",
        "    audio_path = os.path.join(output_dir, f\"samples{i}.wav\")\n",
        "\n",
        "\n",
        "    display(Image(filename=img_path))\n",
        "\n",
        "\n",
        "    display(Audio(filename=audio_path))"
      ],
      "metadata": {
        "id": "pzZ9EKeuM9-z"
      },
      "execution_count": null,
      "outputs": []
    },
    {
      "cell_type": "markdown",
      "source": [
        "Generate 5 sc09 spectrograms unconditionally"
      ],
      "metadata": {
        "id": "UodOA1XyNX62"
      }
    },
    {
      "cell_type": "code",
      "source": [
        "import sys\n",
        "\n",
        "import glob\n",
        "from pathlib import Path\n",
        "!{sys.executable} /content/music-diffusion/scripts/Image_audio_Generator.py \\\n",
        "  --from_pretrained sebascorreia/DDPM-sc09\\\n",
        "  --time_steps 50 \\\n",
        "  --num_gen_img 5 \\\n",
        "  --output_dir \"/content/\" \\\n",
        "  --scheduler ddim\n",
        "\n",
        "from IPython.display import Image, Audio, display\n",
        "import os\n",
        "output_dir = Path(\"/content/eval\")\n",
        "rg = len(list(output_dir.glob('*')))-1\n",
        "for i, sample in enumerate(range(rg//2)):\n",
        "    img_path = os.path.join(output_dir, f\"samples{i}.jpg\")\n",
        "    audio_path = os.path.join(output_dir, f\"samples{i}.wav\")\n",
        "\n",
        "\n",
        "    display(Image(filename=img_path))\n",
        "\n",
        "\n",
        "    display(Audio(filename=audio_path))"
      ],
      "metadata": {
        "id": "WirY2TzbMbFh"
      },
      "execution_count": null,
      "outputs": []
    },
    {
      "cell_type": "markdown",
      "source": [
        "Generate 5 sc09 spectrograms conditionally"
      ],
      "metadata": {
        "id": "yIKUWrJZNlzz"
      }
    },
    {
      "cell_type": "code",
      "source": [
        "import sys\n",
        "\n",
        "import glob\n",
        "from pathlib import Path\n",
        "!{sys.executable} /content/music-diffusion/scripts/Image_audio_Generator.py \\\n",
        "  --from_pretrained sebascorreia/DDPM-sc09-conditional-2\\\n",
        "  --time_steps 50 \\\n",
        "  --num_gen_img 5 \\\n",
        "  --output_dir \"/content/\" \\\n",
        "  --cond True \\\n",
        "  --label \"nine\" \\\n",
        "  --scheduler ddim\n",
        "\n",
        "from IPython.display import Image, Audio, display\n",
        "import os\n",
        "output_dir = Path(\"/content/eval\")\n",
        "rg = len(list(output_dir.glob('*')))-1\n",
        "for i, sample in enumerate(range(rg//2)):\n",
        "    img_path = os.path.join(output_dir, f\"samples{i}.jpg\")\n",
        "    audio_path = os.path.join(output_dir, f\"samples{i}.wav\")\n",
        "\n",
        "\n",
        "    display(Image(filename=img_path))\n",
        "\n",
        "\n",
        "    display(Audio(filename=audio_path))"
      ],
      "metadata": {
        "id": "ospRhO21xsrU"
      },
      "execution_count": null,
      "outputs": []
    },
    {
      "cell_type": "markdown",
      "source": [
        "Conditional Reconstruction of spectrograms from SC09\n",
        "(label to condition the model, filter to filter the dataset for a particular class)"
      ],
      "metadata": {
        "id": "iAJXYVxGmpC6"
      }
    },
    {
      "cell_type": "code",
      "source": [
        "import sys\n",
        "from pathlib import Path\n",
        "!{sys.executable} /content/music-diffusion/scripts/reconstruction.py \\\n",
        "  --from_pretrained sebascorreia/DDPM-sc09-conditional-2\\\n",
        "  --dataset sebascorreia/sc09 \\\n",
        "  --label \"zero\" \\\n",
        "  --filter \"zero\"\\\n",
        "  --timesteps 50\n",
        "\n",
        "folder_path = \"/content/reconstruct\"\n",
        "image_files = ['original.png', 'reconstruction.png']\n",
        "audio_files = ['original.wav', 'reconstruction.wav']\n",
        "for img_file, audio_file in zip(image_files, audio_files):\n",
        "    img_path = os.path.join(folder_path, img_file)\n",
        "    audio_path = os.path.join(folder_path, audio_file)\n",
        "\n",
        "\n",
        "    display(Image(filename=img_path))\n",
        "\n",
        "\n",
        "    display(Audio(filename=audio_path))"
      ],
      "metadata": {
        "id": "Dmho0H-JermY"
      },
      "execution_count": null,
      "outputs": []
    },
    {
      "cell_type": "markdown",
      "source": [
        "Unconditional Reconstruction of spectrograms from SC09"
      ],
      "metadata": {
        "id": "Uf7TtdWdnC7q"
      }
    },
    {
      "cell_type": "code",
      "source": [
        "import sys\n",
        "!{sys.executable} /content/music-diffusion/scripts/reconstruction.py \\\n",
        "  --from_pretrained sebascorreia/DDPM-sc09\\\n",
        "  --dataset sebascorreia/sc09 \\\n",
        "  --timesteps 50\n",
        "\n",
        "folder_path = \"/content/reconstruct\"\n",
        "image_files = ['original.png', 'reconstruction.png']\n",
        "audio_files = ['original.wav', 'reconstruction.wav']\n",
        "for img_file, audio_file in zip(image_files, audio_files):\n",
        "    img_path = os.path.join(folder_path, img_file)\n",
        "    audio_path = os.path.join(folder_path, audio_file)\n",
        "\n",
        "\n",
        "    display(Image(filename=img_path))\n",
        "\n",
        "\n",
        "    display(Audio(filename=audio_path))"
      ],
      "metadata": {
        "id": "7kEoQxRZgWwa"
      },
      "execution_count": null,
      "outputs": []
    },
    {
      "cell_type": "markdown",
      "source": [
        "Unconditional Reconstruction of spectrograms from Maestro"
      ],
      "metadata": {
        "id": "Mi_iFblTnF5V"
      }
    },
    {
      "cell_type": "code",
      "source": [
        "import sys\n",
        "!{sys.executable} /content/music-diffusion/scripts/reconstruction.py \\\n",
        "  --from_pretrained sebascorreia/DDPM-Maestro-full\\\n",
        "  --dataset sebascorreia/Maestro20h \\\n",
        "  --timesteps 50\n",
        "\n",
        "folder_path = \"/content/reconstruct\"\n",
        "image_files = ['original.png', 'reconstruction.png']\n",
        "audio_files = ['original.wav', 'reconstruction.wav']\n",
        "for img_file, audio_file in zip(image_files, audio_files):\n",
        "    img_path = os.path.join(folder_path, img_file)\n",
        "    audio_path = os.path.join(folder_path, audio_file)\n",
        "\n",
        "\n",
        "    display(Image(filename=img_path))\n",
        "\n",
        "\n",
        "    display(Audio(filename=audio_path))"
      ],
      "metadata": {
        "id": "iSjwjI6RlbQa"
      },
      "execution_count": null,
      "outputs": []
    },
    {
      "cell_type": "markdown",
      "source": [
        "Interpolate conditionally between two spectrograms from SC09"
      ],
      "metadata": {
        "id": "xxo24_3JYl2u"
      }
    },
    {
      "cell_type": "code",
      "source": [
        "import sys\n",
        "!{sys.executable} /content/music-diffusion/scripts/interpolate.py \\\n",
        "  --from_pretrained sebascorreia/DDPM-sc09-conditional-2\\\n",
        "  --dataset sebascorreia/sc09 \\\n",
        "  --class1 \"nine\" \\\n",
        "  --class2 \"eight\" \\\n",
        "  --interclass \"seven\"\\\n",
        "  --timesteps 50 \\\n",
        "  --scheduler ddim\n",
        "\n",
        "from IPython.display import Image, Audio, display\n",
        "import os\n",
        "folder_path = \"/content/interpol\"\n",
        "\n",
        "image_files = ['img1.png', 'img2.png', 'inter_img.png']\n",
        "audio_files = ['img1.wav', 'img2.wav', 'inter_img.wav']\n",
        "for img_file, audio_file in zip(image_files, audio_files):\n",
        "    img_path = os.path.join(folder_path, img_file)\n",
        "    audio_path = os.path.join(folder_path, audio_file)\n",
        "\n",
        "\n",
        "    display(Image(filename=img_path))\n",
        "\n",
        "\n",
        "    display(Audio(filename=audio_path))"
      ],
      "metadata": {
        "id": "NyYFhRPnxcFd"
      },
      "execution_count": null,
      "outputs": []
    },
    {
      "cell_type": "markdown",
      "source": [
        "Interpolate unconditionally between two spectrograms from SC09\n",
        "(You can pick two spectrograms of a particular class but the model wont be class conditioned)"
      ],
      "metadata": {
        "id": "2ofmkW-BYuiS"
      }
    },
    {
      "cell_type": "code",
      "source": [
        "import sys\n",
        "!{sys.executable} /content/music-diffusion/scripts/interpolate.py \\\n",
        "  --from_pretrained sebascorreia/DDPM-sc09\\\n",
        "  --dataset sebascorreia/sc09 \\\n",
        "  --timesteps 50 \\\n",
        "  --scheduler ddim\n",
        "#  --class1 \"nine\" \\\n",
        "#  --class2 \"eight\" \\\n",
        "\n",
        "\n",
        "from IPython.display import Image, Audio, display\n",
        "import os\n",
        "folder_path = \"/content/interpol\"\n",
        "\n",
        "image_files = ['img1.png', 'img2.png', 'inter_img.png']\n",
        "audio_files = ['img1.wav', 'img2.wav', 'inter_img.wav']\n",
        "for img_file, audio_file in zip(image_files, audio_files):\n",
        "    img_path = os.path.join(folder_path, img_file)\n",
        "    audio_path = os.path.join(folder_path, audio_file)\n",
        "\n",
        "\n",
        "    display(Image(filename=img_path))\n",
        "\n",
        "\n",
        "    display(Audio(filename=audio_path))"
      ],
      "metadata": {
        "id": "2r6X6KeXYV9j"
      },
      "execution_count": null,
      "outputs": []
    },
    {
      "cell_type": "markdown",
      "source": [
        "Interpolate unconditionally between two spectrograms from Maestro20h"
      ],
      "metadata": {
        "id": "7Zpmtuq7fcJw"
      }
    },
    {
      "cell_type": "code",
      "source": [
        "import sys\n",
        "!{sys.executable} /content/music-diffusion/scripts/interpolate.py \\\n",
        "  --from_pretrained sebascorreia/DDPM-Maestro-full\\\n",
        "  --dataset sebascorreia/Maestro20h \\\n",
        "  --scheduler ddim \\\n",
        "  --timesteps 50 \\\n",
        "  --lamb 0.5\n",
        "\n",
        "from IPython.display import Image, Audio, display\n",
        "import os\n",
        "folder_path = \"/content/interpol\"\n",
        "\n",
        "image_files = ['img1.png', 'img2.png', 'inter_img.png']\n",
        "audio_files = ['img1.wav', 'img2.wav', 'inter_img.wav']\n",
        "for img_file, audio_file in zip(image_files, audio_files):\n",
        "    img_path = os.path.join(folder_path, img_file)\n",
        "    audio_path = os.path.join(folder_path, audio_file)\n",
        "\n",
        "\n",
        "    display(Image(filename=img_path))\n",
        "\n",
        "\n",
        "    display(Audio(filename=audio_path))"
      ],
      "metadata": {
        "id": "P7ZAAKuTATN-"
      },
      "execution_count": null,
      "outputs": []
    },
    {
      "cell_type": "markdown",
      "source": [],
      "metadata": {
        "id": "A79IsTShLlbc"
      }
    }
  ]
}