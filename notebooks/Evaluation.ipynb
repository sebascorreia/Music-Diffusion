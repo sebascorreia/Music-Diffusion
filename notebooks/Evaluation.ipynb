{
  "cells": [
    {
      "cell_type": "code",
      "execution_count": null,
      "metadata": {
        "id": "2dzPmzwPm8jC"
      },
      "outputs": [],
      "source": [
        "try:\n",
        "    # if an error in installation occurs, try again\n",
        "    import google.colab\n",
        "    !git clone -q https://github.com/sebascorreia/music-diffusion.git\n",
        "    %cd music-diffusion\n",
        "    %pip install -q -r requirements.txt\n",
        "    %pip install descript-audio-codec\n",
        "except:\n",
        "    pass"
      ]
    },
    {
      "cell_type": "code",
      "execution_count": null,
      "metadata": {
        "id": "_X6JXcrLnB92"
      },
      "outputs": [],
      "source": [
        "file_path = '/usr/local/lib/python3.10/dist-packages/fadtk/fad.py'\n",
        "\n",
        "# Read the file\n",
        "with open(file_path, 'r') as file:\n",
        "    file_data = file.read()\n",
        "\n",
        "# Replace 'from scipy import sqrt as scisqrt' with 'from numpy import sqrt as scisqrt'\n",
        "file_data = file_data.replace('from scipy import sqrt as scisqrt', 'from numpy import sqrt as scisqrt')\n",
        "\n",
        "# Write the file out again\n",
        "with open(file_path, 'w') as file:\n",
        "    file.write(file_data)\n",
        "\n",
        "print(\"File modified successfully.\")"
      ]
    },
    {
      "cell_type": "code",
      "execution_count": null,
      "metadata": {
        "id": "108aIyAMnFIn"
      },
      "outputs": [],
      "source": [
        "from google.colab import drive\n",
        "drive.mount('/content/drive')"
      ]
    },
    {
      "cell_type": "code",
      "execution_count": null,
      "metadata": {
        "id": "dluGF6TL11au"
      },
      "outputs": [],
      "source": [
        "import sys\n",
        "import os\n",
        "output_dir = \"/content/eval\"\n",
        "os.makedirs(output_dir, exist_ok=True)\n",
        "!{sys.executable} /content/music-diffusion/scripts/reconstruction_eval.py \\\n",
        "  --from_pretrained sebascorreia/DDPM-maestro20h-full \\\n",
        "  --dataset sebascorreia/Maestro20h \\\n",
        "  --timesteps 50 \\\n",
        "  --batch_size 64"
      ]
    },
    {
      "cell_type": "code",
      "source": [
        "import sys\n",
        "import os\n",
        "output_dir = \"/content/eval\"\n",
        "os.makedirs(output_dir, exist_ok=True)\n",
        "!{sys.executable} /content/music-diffusion/scripts/reconstruction_eval.py \\\n",
        "  --from_pretrained sebascorreia/DDPM-sc09 \\\n",
        "  --dataset sebascorreia/sc09 \\\n",
        "  --timesteps 50 \\\n",
        "  --batch_size 128"
      ],
      "metadata": {
        "id": "CzcnYKU7iMiF"
      },
      "execution_count": null,
      "outputs": []
    },
    {
      "cell_type": "code",
      "source": [
        "import sys\n",
        "import os\n",
        "output_dir = \"/content/eval\"\n",
        "os.makedirs(output_dir, exist_ok=True)\n",
        "!{sys.executable} /content/music-diffusion/scripts/reconstruction_eval.py \\\n",
        "  --from_pretrained sebascorreia/DDPM-sc09-conditional-2 \\\n",
        "  --dataset sebascorreia/sc09 \\\n",
        "  --timesteps 50 \\\n",
        "  --batch_size 128 \\\n",
        "  --cond True"
      ],
      "metadata": {
        "id": "l04cNslZjyTn"
      },
      "execution_count": null,
      "outputs": []
    },
    {
      "cell_type": "code",
      "execution_count": null,
      "metadata": {
        "id": "yhsXbm7ovEdj"
      },
      "outputs": [],
      "source": [
        "import torch\n",
        "import shutil\n",
        "\n",
        "# Remove the cache directory\n",
        "torch_cache_dir = torch.hub.get_dir()\n",
        "shutil.rmtree(torch_cache_dir)"
      ]
    },
    {
      "cell_type": "markdown",
      "metadata": {
        "id": "-N80xb01nOzJ"
      },
      "source": [
        "FAD EVALUATION SCRIPT"
      ]
    },
    {
      "cell_type": "code",
      "execution_count": null,
      "metadata": {
        "id": "LofFAECqnVj3"
      },
      "outputs": [],
      "source": [
        "import sys\n",
        "import os\n",
        "output_dir = '/content/drive/MyDrive/Thesis/eval/fad_sc09/'\n",
        "os.makedirs(output_dir, exist_ok=True)\n",
        "!{sys.executable} /content/music-diffusion/scripts/fad_script.py \\\n",
        "  --from_pretrained sebascorreia/DDPM-sc09-conditional-2\\\n",
        "  --dataset sebascorreia/sc09 \\\n",
        "  --time_steps 50 \\\n",
        "  --num_gen_img 5000 \\\n",
        "  --scheduler ddim \\\n",
        "  --gen_batch_size=128 \\\n",
        "  --folder_max 1000 \\\n",
        "  --cond True \\\n",
        "  --fad_model enc24 \\\n",
        "  --fad_split train \\\n",
        "  --output_dir /content/drive/MyDrive/Thesis/eval/fad_sc09/"
      ]
    },
    {
      "cell_type": "code",
      "source": [
        "import sys\n",
        "import os\n",
        "output_dir = '/content/drive/MyDrive/Thesis/eval/fad_sc09/'\n",
        "os.makedirs(output_dir, exist_ok=True)\n",
        "!{sys.executable} /content/music-diffusion/scripts/fad_script.py \\\n",
        "  --from_pretrained sebascorreia/DDPM-sc09\\\n",
        "  --dataset sebascorreia/sc09 \\\n",
        "  --time_steps 50 \\\n",
        "  --num_gen_img 5000 \\\n",
        "  --scheduler ddim \\\n",
        "  --gen_batch_size=128 \\\n",
        "  --folder_max 1000 \\\n",
        "  --fad_model enc24 \\\n",
        "  --fad_split train \\\n",
        "  --output_dir /content/drive/MyDrive/Thesis/eval/fad_sc09/"
      ],
      "metadata": {
        "id": "l3TcpDsVkD0w"
      },
      "execution_count": null,
      "outputs": []
    },
    {
      "cell_type": "code",
      "execution_count": null,
      "metadata": {
        "id": "sfZCvDIFxNki"
      },
      "outputs": [],
      "source": [
        "import sys\n",
        "import os\n",
        "output_dir = '/content/drive/MyDrive/Thesis/eval/fad_maestro/'\n",
        "os.makedirs(output_dir, exist_ok=True)\n",
        "!{sys.executable} /content/music-diffusion/scripts/fad_script.py \\\n",
        "  --from_pretrained sebascorreia/DDPM-Maestro-full\\\n",
        "  --dataset sebascorreia/Maestro20h \\\n",
        "  --time_steps 50 \\\n",
        "  --num_gen_img 5000 \\\n",
        "  --scheduler ddim \\\n",
        "  --gen_batch_size=64 \\\n",
        "  --folder_max 1000 \\\n",
        "  --fad_model enc24 \\\n",
        "  --fad_split train \\\n",
        "  --output_dir /content/drive/MyDrive/Thesis/eval/fad_Maestro/"
      ]
    }
  ],
  "metadata": {
    "accelerator": "GPU",
    "colab": {
      "gpuType": "A100",
      "machine_shape": "hm",
      "provenance": []
    },
    "kernelspec": {
      "display_name": "Python 3",
      "name": "python3"
    },
    "language_info": {
      "name": "python"
    }
  },
  "nbformat": 4,
  "nbformat_minor": 0
}