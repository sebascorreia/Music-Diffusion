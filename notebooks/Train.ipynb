{
  "cells": [
    {
      "cell_type": "code",
      "execution_count": null,
      "metadata": {
        "id": "5sy_3A-j7EjR"
      },
      "outputs": [],
      "source": [
        "try:\n",
        "    # are we running on Google Colab?\n",
        "    import google.colab\n",
        "    !git clone -q https://github.com/sebascorreia/music-diffusion.git\n",
        "    %cd music-diffusion\n",
        "    %pip install -q -r requirements.txt\n",
        "    %pip install descript-audio-codec\n",
        "except:\n",
        "    pass"
      ]
    },
    {
      "cell_type": "code",
      "execution_count": null,
      "metadata": {
        "id": "lUe1VQsmKs93"
      },
      "outputs": [],
      "source": [
        "file_path = '/usr/local/lib/python3.10/dist-packages/fadtk/fad.py'\n",
        "\n",
        "# Read the file\n",
        "with open(file_path, 'r') as file:\n",
        "    file_data = file.read()\n",
        "\n",
        "# Replace 'from scipy import sqrt as scisqrt' with 'from numpy import sqrt as scisqrt'\n",
        "file_data = file_data.replace('from scipy import sqrt as scisqrt', 'from numpy import sqrt as scisqrt')\n",
        "\n",
        "# Write the file out again\n",
        "with open(file_path, 'w') as file:\n",
        "    file.write(file_data)\n",
        "\n",
        "print(\"File modified successfully.\")\n"
      ]
    },
    {
      "cell_type": "code",
      "execution_count": null,
      "metadata": {
        "id": "qkxWMqmx7B_1"
      },
      "outputs": [],
      "source": [
        "from google.colab import drive\n",
        "drive.mount('/content/drive')"
      ]
    },
    {
      "cell_type": "code",
      "execution_count": null,
      "metadata": {
        "id": "40EzyrD68yNS"
      },
      "outputs": [],
      "source": [
        "import sys\n",
        "folder_path = \"/content/drive/MyDrive/Thesis/Datasets/less_maestro\"\n",
        "!cd /content/music-diffusion\n",
        "!{sys.executable} scripts/preprocessing.py \\\n",
        "  --resolution 256,256 \\\n",
        "  --audio_files {folder_path} \\\n",
        "  --output_dir data \\\n",
        "  --push_to_hub sebascorreia/Maestro20h"
      ]
    },
    {
      "cell_type": "code",
      "execution_count": null,
      "metadata": {
        "id": "D3Yu3ZzfUese"
      },
      "outputs": [],
      "source": [
        "%load_ext tensorboard\n",
        "%tensorboard --logdir /content/drive/MyDrive/models/DDPM-maestro20h/tensorboard/train_example"
      ]
    },
    {
      "cell_type": "code",
      "execution_count": null,
      "metadata": {
        "id": "wTVdVw_u4E-S"
      },
      "outputs": [],
      "source": [
        "\n",
        "#in /usr/local/lib/python3.10/dist-packages/fadtk/fad.py\n",
        "import sys\n",
        "ema = 2/3\n",
        "!{sys.executable} scripts/train_unet.py \\\n",
        "  --dataset sebascorreia/sc09 \\\n",
        "  --output_dir /content/drive/MyDrive/models/DDPM_sc09_conditional-2 \\\n",
        "  --push_to_hub True \\\n",
        "  --scheduler ddpm \\\n",
        "  --hub_model_id DDPM-sc09-conditional-2\\\n",
        "  --save_model_epochs 20 \\\n",
        "  --save_image_epochs 500 \\\n",
        "  --epochs 141 \\\n",
        "  --train_batch_size 64 \\\n",
        "  --fad 500 \\\n",
        "  --classes 10 \\\n",
        "  --conditional True \\\n",
        "  --from_pretrained sebascorreia/DDPM-sc09-conditional \\\n",
        "  --start_epoch 79 \\\n",
        "  --ema_warmup True \\\n",
        "  --ema_power {ema}\n",
        "\n"
      ]
    }
  ],
  "metadata": {
    "accelerator": "GPU",
    "colab": {
      "gpuType": "A100",
      "machine_shape": "hm",
      "provenance": []
    },
    "kernelspec": {
      "display_name": "Python 3",
      "name": "python3"
    },
    "language_info": {
      "name": "python"
    }
  },
  "nbformat": 4,
  "nbformat_minor": 0
}